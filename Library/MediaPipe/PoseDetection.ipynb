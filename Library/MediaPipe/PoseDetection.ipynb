{
 "cells": [
  {
   "cell_type": "code",
   "execution_count": 1,
   "metadata": {
    "scrolled": true
   },
   "outputs": [
    {
     "name": "stdout",
     "output_type": "stream",
     "text": [
      "arch: posix_spawnp: pip: Bad CPU type in executable\n"
     ]
    }
   ],
   "source": [
    "!arch -x86_64 pip install mediapipe opencv-python"
   ]
  },
  {
   "cell_type": "code",
   "execution_count": 6,
   "metadata": {},
   "outputs": [
    {
     "name": "stdout",
     "output_type": "stream",
     "text": [
      "\u001b[33mDEPRECATION: Configuring installation scheme with distutils config files is deprecated and will no longer work in the near future. If you are using a Homebrew or Linuxbrew Python, please see discussion at https://github.com/Homebrew/homebrew-core/issues/76621\u001b[0m\u001b[33m\n",
      "\u001b[0mRequirement already satisfied: mediapipe-silicon in /opt/homebrew/lib/python3.9/site-packages (0.8.9)\n",
      "Requirement already satisfied: attrs>=19.1.0 in /opt/homebrew/lib/python3.9/site-packages (from mediapipe-silicon) (21.4.0)\n",
      "Requirement already satisfied: protobuf>=3.11.4 in /opt/homebrew/lib/python3.9/site-packages (from mediapipe-silicon) (3.19.4)\n",
      "Requirement already satisfied: absl-py in /opt/homebrew/lib/python3.9/site-packages (from mediapipe-silicon) (1.1.0)\n",
      "Requirement already satisfied: matplotlib in /opt/homebrew/lib/python3.9/site-packages (from mediapipe-silicon) (3.2.0)\n",
      "Requirement already satisfied: opencv-contrib-python in /opt/homebrew/lib/python3.9/site-packages (from mediapipe-silicon) (4.5.5.64)\n",
      "Requirement already satisfied: numpy in /opt/homebrew/lib/python3.9/site-packages (from mediapipe-silicon) (1.22.3)\n",
      "Requirement already satisfied: cycler>=0.10 in /opt/homebrew/lib/python3.9/site-packages (from matplotlib->mediapipe-silicon) (0.11.0)\n",
      "Requirement already satisfied: kiwisolver>=1.0.1 in /opt/homebrew/lib/python3.9/site-packages (from matplotlib->mediapipe-silicon) (1.4.2)\n",
      "Requirement already satisfied: python-dateutil>=2.1 in /opt/homebrew/lib/python3.9/site-packages (from matplotlib->mediapipe-silicon) (2.8.2)\n",
      "Requirement already satisfied: pyparsing!=2.0.4,!=2.1.2,!=2.1.6,>=2.0.1 in /opt/homebrew/lib/python3.9/site-packages (from matplotlib->mediapipe-silicon) (3.0.8)\n",
      "Requirement already satisfied: six>=1.5 in /opt/homebrew/lib/python3.9/site-packages (from python-dateutil>=2.1->matplotlib->mediapipe-silicon) (1.16.0)\n",
      "\u001b[33mDEPRECATION: Configuring installation scheme with distutils config files is deprecated and will no longer work in the near future. If you are using a Homebrew or Linuxbrew Python, please see discussion at https://github.com/Homebrew/homebrew-core/issues/76621\u001b[0m\u001b[33m\n",
      "\u001b[0m"
     ]
    }
   ],
   "source": [
    "!pip install mediapipe-silicon"
   ]
  },
  {
   "cell_type": "code",
   "execution_count": null,
   "metadata": {},
   "outputs": [],
   "source": [
    "import cv2\n",
    "import mediapipe as mp\n",
    "import numpy as np"
   ]
  },
  {
   "cell_type": "code",
   "execution_count": 3,
   "metadata": {},
   "outputs": [],
   "source": [
    "mp_drawing = mp.solutions.drawing_utils\n",
    "mp_drawing_styles = mp.solutions.drawing_styles\n",
    "mp_pose = mp.solutions.pose"
   ]
  },
  {
   "cell_type": "code",
   "execution_count": 4,
   "metadata": {},
   "outputs": [
    {
     "name": "stderr",
     "output_type": "stream",
     "text": [
      "INFO: Created TensorFlow Lite XNNPACK delegate for CPU.\n"
     ]
    }
   ],
   "source": [
    "cap = cv2.VideoCapture(0)\n",
    "with mp_pose.Pose(\n",
    "        min_detection_confidence=0.5,\n",
    "        min_tracking_confidence=0.5) as pose:\n",
    "    while cap.isOpened():\n",
    "        success, image = cap.read()\n",
    "        if not success:\n",
    "            print(\"카메라를 찾을 수 없습니다.\")\n",
    "            # 동영상을 불러올 경우는 'continue' 대신 'break'를 사용합니다.\n",
    "            continue\n",
    "\n",
    "        # 필요에 따라 성능 향상을 위해 이미지 작성을 불가능함으로 기본 설정합니다.\n",
    "        image.flags.writeable = False\n",
    "        image = cv2.cvtColor(image, cv2.COLOR_BGR2RGB)\n",
    "        results = pose.process(image)\n",
    "\n",
    "        # 포즈 주석을 이미지 위에 그립니다.\n",
    "        image.flags.writeable = True\n",
    "        image = cv2.cvtColor(image, cv2.COLOR_RGB2BGR)\n",
    "        mp_drawing.draw_landmarks(\n",
    "            image,\n",
    "            results.pose_landmarks,\n",
    "            mp_pose.POSE_CONNECTIONS,\n",
    "            landmark_drawing_spec=mp_drawing_styles.get_default_pose_landmarks_style())\n",
    "        # 보기 편하게 이미지를 좌우 반전합니다.\n",
    "        cv2.imshow('MediaPipe Pose', cv2.flip(image, 1))\n",
    "        if cv2.waitKey(10) & 0xFF == ord('q'):\n",
    "            break\n",
    "cap.release()"
   ]
  },
  {
   "cell_type": "code",
   "execution_count": 1,
   "metadata": {},
   "outputs": [
    {
     "ename": "NameError",
     "evalue": "name 'cv2' is not defined",
     "output_type": "error",
     "traceback": [
      "\u001b[0;31m---------------------------------------------------------------------------\u001b[0m",
      "\u001b[0;31mNameError\u001b[0m                                 Traceback (most recent call last)",
      "Input \u001b[0;32mIn [1]\u001b[0m, in \u001b[0;36m<cell line: 1>\u001b[0;34m()\u001b[0m\n\u001b[0;32m----> 1\u001b[0m cap \u001b[38;5;241m=\u001b[39m \u001b[43mcv2\u001b[49m\u001b[38;5;241m.\u001b[39mVideoCapture(\u001b[38;5;241m0\u001b[39m,cv2\u001b[38;5;241m.\u001b[39mCAP_AVFOUNDATION) \u001b[38;5;66;03m#MacOS\u001b[39;00m\n\u001b[1;32m      2\u001b[0m \u001b[38;5;28;01mwith\u001b[39;00m mp_hands\u001b[38;5;241m.\u001b[39mHands(min_detection_confidence\u001b[38;5;241m=\u001b[39m\u001b[38;5;241m0.8\u001b[39m, min_tracking_confidence\u001b[38;5;241m=\u001b[39m\u001b[38;5;241m0.5\u001b[39m) \u001b[38;5;28;01mas\u001b[39;00m hands:\n\u001b[1;32m      3\u001b[0m     \u001b[38;5;28;01mwhile\u001b[39;00m cap\u001b[38;5;241m.\u001b[39misOpened():\n\u001b[1;32m      4\u001b[0m     \u001b[38;5;66;03m#ret\u001b[39;00m\n\u001b[1;32m      5\u001b[0m     \u001b[38;5;66;03m#frame\u001b[39;00m\n",
      "\u001b[0;31mNameError\u001b[0m: name 'cv2' is not defined"
     ]
    }
   ],
   "source": [
    "cap = cv2.VideoCapture(0,cv2.CAP_AVFOUNDATION) #MacOS\n",
    "with mp_hands.Hands(min_detection_confidence=0.8, min_tracking_confidence=0.5) as hands:\n",
    "    while cap.isOpened():\n",
    "    #ret\n",
    "    #frame\n",
    "        ret, frame = cap.read()\n",
    "        \n",
    "        #BGR 2 RGB\n",
    "        image = cv2.cvtColor(frame, cv2.COLOR_BGR2RGB) #change Color Combinations\n",
    "        \n",
    "        #Flip on horizontal\n",
    "        image = cv2.flip(image,1)\n",
    "        \n",
    "        #Set flag\n",
    "        image.flags.writeable = True\n",
    "    \n",
    "        #Detections\n",
    "        results = hands.process(image)\n",
    "    \n",
    "        # Set flag to true\n",
    "        image.flags.writeable = True\n",
    "    \n",
    "        #RGB to BGR\n",
    "        image = cv2.cvtColor(image, cv2.COLOR_RGB2BGR)\n",
    "        process_image = cv2.Canny(image,50,200)\n",
    "        #print(results)\n",
    "        \n",
    "        #Rendering results\n",
    "        if results.multi_hand_landmarks:\n",
    "            for num,hand in enumerate(results.multi_hand_landmarks):\n",
    "                mp_drawing.draw_landmarks(process_image,hand,mp_hands.HAND_CONNECTIONS,\n",
    "                                         mp_drawing.DrawingSpec(color=(121,22,76), thickness=2, circle_radius=4),\n",
    "                                         mp_drawing.DrawingSpec(color=(121,44,250), thickness=2, circle_radius=2),\n",
    "                                         )\n",
    "                \n",
    "        cv2.imshow('Hand Tracking', process_image)\n",
    "    \n",
    "        if (cv2.waitKey(10) & 0xFF == ord('q')):\n",
    "            break\n",
    "        \n",
    "cap.release()\n",
    "cv2.destroyAllWindows()"
   ]
  },
  {
   "cell_type": "code",
   "execution_count": null,
   "metadata": {},
   "outputs": [],
   "source": []
  }
 ],
 "metadata": {
  "interpreter": {
   "hash": "b0fa6594d8f4cbf19f97940f81e996739fb7646882a419484c72d19e05852a7e"
  },
  "kernelspec": {
   "display_name": "tf",
   "language": "python",
   "name": "python3"
  },
  "language_info": {
   "codemirror_mode": {
    "name": "ipython",
    "version": 3
   },
   "file_extension": ".py",
   "mimetype": "text/x-python",
   "name": "python",
   "nbconvert_exporter": "python",
   "pygments_lexer": "ipython3",
   "version": "3.9.13"
  }
 },
 "nbformat": 4,
 "nbformat_minor": 2
}
