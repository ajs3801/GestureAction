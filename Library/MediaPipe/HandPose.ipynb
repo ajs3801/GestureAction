{
 "cells": [
  {
   "cell_type": "code",
   "execution_count": 2,
   "id": "4d6dfe9f",
   "metadata": {
    "scrolled": true
   },
   "outputs": [
    {
     "name": "stdout",
     "output_type": "stream",
     "text": [
      "Requirement already satisfied: mediapipe-silicon in /Users/devjs/miniforge3/envs/Virtual/lib/python3.8/site-packages (0.8.9)\n",
      "Requirement already satisfied: opencv-python in /Users/devjs/miniforge3/envs/Virtual/lib/python3.8/site-packages (4.5.5)\n",
      "Requirement already satisfied: absl-py in /Users/devjs/miniforge3/envs/Virtual/lib/python3.8/site-packages (from mediapipe-silicon) (1.1.0)\n",
      "Requirement already satisfied: matplotlib in /Users/devjs/miniforge3/envs/Virtual/lib/python3.8/site-packages (from mediapipe-silicon) (3.5.2)\n",
      "Requirement already satisfied: opencv-contrib-python in /Users/devjs/miniforge3/envs/Virtual/lib/python3.8/site-packages (from mediapipe-silicon) (4.5.5.64)\n",
      "Requirement already satisfied: protobuf>=3.11.4 in /Users/devjs/miniforge3/envs/Virtual/lib/python3.8/site-packages (from mediapipe-silicon) (4.21.1)\n",
      "Requirement already satisfied: attrs>=19.1.0 in /Users/devjs/miniforge3/envs/Virtual/lib/python3.8/site-packages (from mediapipe-silicon) (21.4.0)\n",
      "Requirement already satisfied: numpy in /Users/devjs/miniforge3/envs/Virtual/lib/python3.8/site-packages (from mediapipe-silicon) (1.22.4)\n",
      "Requirement already satisfied: cycler>=0.10 in /Users/devjs/miniforge3/envs/Virtual/lib/python3.8/site-packages (from matplotlib->mediapipe-silicon) (0.11.0)\n",
      "Requirement already satisfied: python-dateutil>=2.7 in /Users/devjs/miniforge3/envs/Virtual/lib/python3.8/site-packages (from matplotlib->mediapipe-silicon) (2.8.2)\n",
      "Requirement already satisfied: packaging>=20.0 in /Users/devjs/miniforge3/envs/Virtual/lib/python3.8/site-packages (from matplotlib->mediapipe-silicon) (21.3)\n",
      "Requirement already satisfied: pyparsing>=2.2.1 in /Users/devjs/miniforge3/envs/Virtual/lib/python3.8/site-packages (from matplotlib->mediapipe-silicon) (3.0.9)\n",
      "Requirement already satisfied: fonttools>=4.22.0 in /Users/devjs/miniforge3/envs/Virtual/lib/python3.8/site-packages (from matplotlib->mediapipe-silicon) (4.33.3)\n",
      "Requirement already satisfied: pillow>=6.2.0 in /Users/devjs/miniforge3/envs/Virtual/lib/python3.8/site-packages (from matplotlib->mediapipe-silicon) (9.1.1)\n",
      "Requirement already satisfied: kiwisolver>=1.0.1 in /Users/devjs/miniforge3/envs/Virtual/lib/python3.8/site-packages (from matplotlib->mediapipe-silicon) (1.4.2)\n",
      "Requirement already satisfied: six>=1.5 in /Users/devjs/miniforge3/envs/Virtual/lib/python3.8/site-packages (from python-dateutil>=2.7->matplotlib->mediapipe-silicon) (1.16.0)\n"
     ]
    }
   ],
   "source": [
    "# !pip install mediapipe opencv-python #Window\n",
    "# !pip install mediapipe-silicon opencv-python # MacOS (m1)"
   ]
  },
  {
   "cell_type": "code",
   "execution_count": 2,
   "id": "6aec9965",
   "metadata": {},
   "outputs": [
    {
     "name": "stderr",
     "output_type": "stream",
     "text": [
      "objc[81786]: Class CaptureDelegate is implemented in both /opt/homebrew/lib/python3.9/site-packages/mediapipe/.dylibs/libopencv_videoio.3.4.16.dylib (0x1049c8860) and /opt/homebrew/lib/python3.9/site-packages/cv2/cv2.abi3.so (0x16ae263d8). One of the two will be used. Which one is undefined.\n",
      "objc[81786]: Class CVWindow is implemented in both /opt/homebrew/lib/python3.9/site-packages/mediapipe/.dylibs/libopencv_highgui.3.4.16.dylib (0x103fe8a68) and /opt/homebrew/lib/python3.9/site-packages/cv2/cv2.abi3.so (0x16ae26428). One of the two will be used. Which one is undefined.\n",
      "objc[81786]: Class CVView is implemented in both /opt/homebrew/lib/python3.9/site-packages/mediapipe/.dylibs/libopencv_highgui.3.4.16.dylib (0x103fe8a90) and /opt/homebrew/lib/python3.9/site-packages/cv2/cv2.abi3.so (0x16ae26450). One of the two will be used. Which one is undefined.\n",
      "objc[81786]: Class CVSlider is implemented in both /opt/homebrew/lib/python3.9/site-packages/mediapipe/.dylibs/libopencv_highgui.3.4.16.dylib (0x103fe8ab8) and /opt/homebrew/lib/python3.9/site-packages/cv2/cv2.abi3.so (0x16ae26478). One of the two will be used. Which one is undefined.\n"
     ]
    }
   ],
   "source": [
    "import mediapipe as mp \n",
    "import cv2 \n",
    "import numpy as np \n",
    "import uuid \n",
    "import os"
   ]
  },
  {
   "cell_type": "code",
   "execution_count": 3,
   "id": "54bf818a",
   "metadata": {},
   "outputs": [],
   "source": [
    "mp_drawing = mp.solutions.drawing_utils\n",
    "mp_hands = mp.solutions.hands"
   ]
  },
  {
   "cell_type": "code",
   "execution_count": 4,
   "id": "03b00566",
   "metadata": {},
   "outputs": [
    {
     "name": "stderr",
     "output_type": "stream",
     "text": [
      "INFO: Created TensorFlow Lite XNNPACK delegate for CPU.\n"
     ]
    },
    {
     "ename": "NameError",
     "evalue": "name 'cap' is not defined",
     "output_type": "error",
     "traceback": [
      "\u001b[0;31m---------------------------------------------------------------------------\u001b[0m",
      "\u001b[0;31mNameError\u001b[0m                                 Traceback (most recent call last)",
      "Input \u001b[0;32mIn [4]\u001b[0m, in \u001b[0;36m<cell line: 3>\u001b[0;34m()\u001b[0m\n\u001b[1;32m      1\u001b[0m \u001b[38;5;66;03m# cap = cv2.VideoCapture(0) #Windows\u001b[39;00m\n\u001b[1;32m      2\u001b[0m \u001b[38;5;66;03m# cap = cv2.VideoCapture(0,cv2.CAP_AVFOUNDATION) #MacOS\u001b[39;00m\n\u001b[1;32m      3\u001b[0m \u001b[38;5;28;01mwith\u001b[39;00m mp_hands\u001b[38;5;241m.\u001b[39mHands(min_detection_confidence\u001b[38;5;241m=\u001b[39m\u001b[38;5;241m0.8\u001b[39m, min_tracking_confidence\u001b[38;5;241m=\u001b[39m\u001b[38;5;241m0.5\u001b[39m) \u001b[38;5;28;01mas\u001b[39;00m hands:\n\u001b[0;32m----> 4\u001b[0m     \u001b[38;5;28;01mwhile\u001b[39;00m \u001b[43mcap\u001b[49m\u001b[38;5;241m.\u001b[39misOpened():\n\u001b[1;32m      5\u001b[0m     \u001b[38;5;66;03m#ret\u001b[39;00m\n\u001b[1;32m      6\u001b[0m     \u001b[38;5;66;03m#frame\u001b[39;00m\n\u001b[1;32m      7\u001b[0m         ret, frame \u001b[38;5;241m=\u001b[39m cap\u001b[38;5;241m.\u001b[39mread()\n\u001b[1;32m      9\u001b[0m         \u001b[38;5;66;03m#BGR 2 RGB\u001b[39;00m\n",
      "\u001b[0;31mNameError\u001b[0m: name 'cap' is not defined"
     ]
    }
   ],
   "source": [
    "\n",
    "# cap = cv2.VideoCapture(0) #Windows\n",
    "# cap = cv2.VideoCapture(0,cv2.CAP_AVFOUNDATION) #MacOS\n",
    "with mp_hands.Hands(min_detection_confidence=0.8, min_tracking_confidence=0.5) as hands:\n",
    "    while cap.isOpened():\n",
    "    #ret\n",
    "    #frame\n",
    "        ret, frame = cap.read()\n",
    "        \n",
    "        #BGR 2 RGB\n",
    "        image = cv2.cvtColor(frame, cv2.COLOR_BGR2RGB) #change Color Combinations\n",
    "        \n",
    "        #Flip on horizontal\n",
    "        image = cv2.flip(image,1)\n",
    "        \n",
    "        #Set flag\n",
    "        image.flags.writeable = True\n",
    "    \n",
    "        #Detections\n",
    "        results = hands.process(image)\n",
    "    \n",
    "        # Set flag to true\n",
    "        image.flags.writeable = True\n",
    "    \n",
    "        #RGB to BGR\n",
    "        image = cv2.cvtColor(image, cv2.COLOR_RGB2BGR)\n",
    "        #print(results)\n",
    "        \n",
    "        #Rendering results\n",
    "        if results.multi_hand_landmarks:\n",
    "            for num,hand in enumerate(results.multi_hand_landmarks):\n",
    "                mp_drawing.draw_landmarks(image,hand,mp_hands.HAND_CONNECTIONS,\n",
    "                                         mp_drawing.DrawingSpec(color=(121,22,76), thickness=2, circle_radius=4),\n",
    "                                         mp_drawing.DrawingSpec(color=(121,44,250), thickness=2, circle_radius=2),\n",
    "                                         )\n",
    "                \n",
    "        cv2.imshow('Hand Tracking', image)\n",
    "    \n",
    "        if (cv2.waitKey(10) & 0xFF == ord('q')):\n",
    "            break\n",
    "        \n",
    "cap.release()\n",
    "cv2.destroyAllWindows()"
   ]
  },
  {
   "cell_type": "code",
   "execution_count": null,
   "id": "677eba3c",
   "metadata": {},
   "outputs": [],
   "source": [
    "results"
   ]
  },
  {
   "cell_type": "code",
   "execution_count": null,
   "id": "ce83e21a",
   "metadata": {},
   "outputs": [],
   "source": [
    "results.multi_hand_landmarks"
   ]
  },
  {
   "cell_type": "code",
   "execution_count": null,
   "id": "6f09bf05",
   "metadata": {},
   "outputs": [],
   "source": [
    "mp_hands.HAND_CONNECTIONS"
   ]
  },
  {
   "cell_type": "code",
   "execution_count": null,
   "id": "24926269",
   "metadata": {},
   "outputs": [],
   "source": [
    "mp_drawing.draw_landmarks??"
   ]
  },
  {
   "cell_type": "code",
   "execution_count": null,
   "id": "b9b9342c",
   "metadata": {},
   "outputs": [],
   "source": [
    "mp_drawing.DrawingSpec??"
   ]
  },
  {
   "cell_type": "code",
   "execution_count": null,
   "id": "c82cad1b",
   "metadata": {},
   "outputs": [],
   "source": [
    "os.mkdir('Output Images')"
   ]
  },
  {
   "cell_type": "code",
   "execution_count": null,
   "id": "5605f7bd",
   "metadata": {},
   "outputs": [],
   "source": [
    "cap = cv2.VideoCapture(0)\n",
    "with mp_hands.Hands(min_detection_confidence=0.8, min_tracking_confidence=0.5) as hands:\n",
    "    while cap.isOpened():\n",
    "    #ret\n",
    "    #frame\n",
    "        ret, frame = cap.read()\n",
    "        \n",
    "        #BGR 2 RGB\n",
    "        image = cv2.cvtColor(frame, cv2.COLOR_BGR2RGB) #change Color Combinations\n",
    "        \n",
    "        #Flip on horizontal\n",
    "        image = cv2.flip(image,1)\n",
    "        \n",
    "        #Set flag\n",
    "        image.flags.writeable = True\n",
    "    \n",
    "        #Detections\n",
    "        results = hands.process(image)\n",
    "    \n",
    "        # Set flag to true\n",
    "        image.flags.writeable = True\n",
    "    \n",
    "        #RGB to BGR\n",
    "        image = cv2.cvtColor(image, cv2.COLOR_RGB2BGR)\n",
    "        print(results)\n",
    "        \n",
    "        #Rendering results\n",
    "        if results.multi_hand_landmarks:\n",
    "            for num,hand in enumerate(results.multi_hand_landmarks):\n",
    "                mp_drawing.draw_landmarks(image,hand,mp_hands.HAND_CONNECTIONS,\n",
    "                                         mp_drawing.DrawingSpec(color=(121,22,76), thickness=2, circle_radius=4),\n",
    "                                         mp_drawing.DrawingSpec(color=(121,44,250), thickness=2, circle_radius=2),\n",
    "                                         )\n",
    "                \n",
    "        cv2.imshow('Hand Tracking', image)\n",
    "        \n",
    "        #Save our image\n",
    "        cv2.imwrite(os.path.join('Output Images','{}.jpg'.format(uuid.uuid1())),image))\n",
    "        \n",
    "        if (cv2.waitKey(10) & 0xFF == ord('q')):\n",
    "            break\n",
    "        \n",
    "cap.release()\n",
    "cv2.destroyAllWindows()"
   ]
  }
 ],
 "metadata": {
  "kernelspec": {
   "display_name": "Python 3 (ipykernel)",
   "language": "python",
   "name": "python3"
  },
  "language_info": {
   "codemirror_mode": {
    "name": "ipython",
    "version": 3
   },
   "file_extension": ".py",
   "mimetype": "text/x-python",
   "name": "python",
   "nbconvert_exporter": "python",
   "pygments_lexer": "ipython3",
   "version": "3.9.13"
  }
 },
 "nbformat": 4,
 "nbformat_minor": 5
}
