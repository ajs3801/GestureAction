{
 "cells": [
  {
   "cell_type": "code",
   "execution_count": 2,
   "metadata": {},
   "outputs": [
    {
     "name": "stdout",
     "output_type": "stream",
     "text": [
      "End by User\n"
     ]
    },
    {
     "data": {
      "text/plain": [
       "-1"
      ]
     },
     "execution_count": 2,
     "metadata": {},
     "output_type": "execute_result"
    }
   ],
   "source": [
    "import cv2\n",
    "cap = cv2.VideoCapture('video/corgi.mp4')\n",
    "\n",
    "while cap.isOpened(): # 동영상 파일이 올바로 열렸는지?\n",
    "  ret, frame = cap.read() # ret 성공여부, frame 받아온 이미지(프레임)\n",
    "\n",
    "  if not ret:\n",
    "    print('End')\n",
    "    break\n",
    "\n",
    "  cv2.imshow('video',frame)\n",
    "\n",
    "  # waitKey로 동영상 프레임도 조절가능\n",
    "  # 0xFF(11111111)와 and연산 하는 이유?\n",
    "  # 아스키코드가 1byte(8bit)니까 cv2.waitKey(1)의 반환값을 8bit로 맞추기 위해 \n",
    "  if cv2.waitKey(1) & 0xFF == ord('q'): #cv2.waitKey -> 입력받은 키보드 아스키코드 반환 | ord() -> 파라미터의 아스키코드 값 반환\n",
    "    print('End by User')\n",
    "    break\n",
    "\n",
    "cap.release()\n",
    "\n",
    "cv2.destroyAllWindows()\n",
    "cv2.waitKey(1)"
   ]
  }
 ],
 "metadata": {
  "interpreter": {
   "hash": "b0fa6594d8f4cbf19f97940f81e996739fb7646882a419484c72d19e05852a7e"
  },
  "kernelspec": {
   "display_name": "Python 3.9.12 64-bit",
   "language": "python",
   "name": "python3"
  },
  "language_info": {
   "codemirror_mode": {
    "name": "ipython",
    "version": 3
   },
   "file_extension": ".py",
   "mimetype": "text/x-python",
   "name": "python",
   "nbconvert_exporter": "python",
   "pygments_lexer": "ipython3",
   "version": "3.9.13"
  }
 },
 "nbformat": 4,
 "nbformat_minor": 5
}
