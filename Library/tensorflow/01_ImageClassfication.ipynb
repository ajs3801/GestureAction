{
 "cells": [
  {
   "cell_type": "markdown",
   "metadata": {},
   "source": [
    "## 필요한 library import"
   ]
  },
  {
   "cell_type": "code",
   "execution_count": null,
   "metadata": {},
   "outputs": [],
   "source": [
    "import tensorflow as tf\n",
    "import numpy as np\n",
    "import matplotlib.pyplot as plt"
   ]
  },
  {
   "cell_type": "code",
   "execution_count": null,
   "metadata": {},
   "outputs": [],
   "source": [
    "print(tf.__version__)"
   ]
  },
  {
   "cell_type": "markdown",
   "metadata": {},
   "source": [
    "## 데이터 로드"
   ]
  },
  {
   "cell_type": "code",
   "execution_count": null,
   "metadata": {},
   "outputs": [],
   "source": [
    "# fashion MNIST load\n",
    "fashion_mnist = tf.keras.datasets.fashion_mnist\n",
    "\n",
    "# load_data() -> 네 개의 numpy 배열 return\n",
    "(train_images, train_labels), (test_images, test_labels) = fashion_mnist.load_data()"
   ]
  },
  {
   "cell_type": "code",
   "execution_count": null,
   "metadata": {},
   "outputs": [],
   "source": [
    "class_names = ['T-shirt/top', 'Trouser', 'Pullover', 'Dress', 'Coat',\n",
    "                'Sandal', 'Shirt', 'Sneaker', 'Bag', 'Ankle boot']"
   ]
  },
  {
   "cell_type": "markdown",
   "metadata": {},
   "source": [
    "## train_images | train_labels | test_images | test_labels format"
   ]
  },
  {
   "cell_type": "code",
   "execution_count": null,
   "metadata": {},
   "outputs": [],
   "source": [
    "train_images.shape"
   ]
  },
  {
   "cell_type": "code",
   "execution_count": null,
   "metadata": {},
   "outputs": [],
   "source": [
    "len(train_labels)"
   ]
  },
  {
   "cell_type": "code",
   "execution_count": null,
   "metadata": {},
   "outputs": [],
   "source": [
    "train_labels"
   ]
  },
  {
   "cell_type": "code",
   "execution_count": null,
   "metadata": {},
   "outputs": [],
   "source": [
    "test_images.shape"
   ]
  },
  {
   "cell_type": "code",
   "execution_count": null,
   "metadata": {},
   "outputs": [],
   "source": [
    "len(test_labels)"
   ]
  },
  {
   "cell_type": "markdown",
   "metadata": {},
   "source": [
    "## 데이터 전처리"
   ]
  },
  {
   "cell_type": "code",
   "execution_count": null,
   "metadata": {},
   "outputs": [],
   "source": [
    "# train_images에 있는 이미지의 픽셀 범위가 0~255임\n",
    "plt.figure() #새로운 figure 생성\n",
    "plt.imshow(train_images[0]) #train_images에 있는 첫번째 이미지\n",
    "plt.colorbar() #colorbar를 plot에 추가\n",
    "plt.grid(False) #격자 없애기\n",
    "plt.show() #그래프 화면에 나타내기"
   ]
  },
  {
   "cell_type": "code",
   "execution_count": null,
   "metadata": {},
   "outputs": [],
   "source": [
    "# 신경망 모델에 주입하기 전에 0~255이었던 값들을 모두 0~1 사이로 조정\n",
    "# train_images와 test_images를 같은 방식으로 전처리하는 것이 중요함\n",
    "train_images = train_images / 255.0\n",
    "test_images = test_images / 255.0"
   ]
  },
  {
   "cell_type": "code",
   "execution_count": null,
   "metadata": {},
   "outputs": [],
   "source": [
    "# test_images에서 처음 25개의 이미지와 그 아래에 클래스 이름 출력\n",
    "plt.figure(figsize=(10,10))\n",
    "for i in range(25):\n",
    "    plt.subplot(5,5,i+1) # plt.subplot(row,column,index)\n",
    "    plt.xticks([]) # 눈금표시하기 (빈 배열이므로 실제로는 눈금이 나오지는 않음)\n",
    "    plt.yticks([]) # 눈금표시하기 (빈 배열이므로 실제로는 눈금이 나오지는 않음)\n",
    "    plt.grid(False) # 격자 없애기\n",
    "    plt.imshow(train_images[i], cmap=plt.cm.binary) # GRAY-scale로 변환 후 보여줌\n",
    "    plt.xlabel(class_names[train_labels[i]]) # x축(subplot)에 class_name 넣기\n",
    "plt.show()"
   ]
  },
  {
   "cell_type": "markdown",
   "metadata": {},
   "source": [
    "## 모델 구성"
   ]
  },
  {
   "cell_type": "code",
   "execution_count": null,
   "metadata": {},
   "outputs": [],
   "source": [
    "model = tf.keras.Sequential([\n",
    "    tf.keras.layers.Flatten(input_shape=(28, 28)), # 2차원 배열의 이미지 포맷을 28*28 픽셀의 1차원 배열로 변환\n",
    "    tf.keras.layers.Dense(128, activation='relu'), # 128개의 뉴런을 가짐\n",
    "    tf.keras.layers.Dense(10) # 10개 뉴런의 softmax층 -> 10개의 확률을 반환하고 반환된 값의 합은 1임\n",
    "])"
   ]
  },
  {
   "cell_type": "markdown",
   "metadata": {},
   "source": [
    "## 모델 컴파일"
   ]
  },
  {
   "cell_type": "code",
   "execution_count": null,
   "metadata": {},
   "outputs": [],
   "source": [
    "model.compile(optimizer='adam', # Adam Algorithm을 구현하는 Optimizer\n",
    "              loss = tf.keras.losses.SparseCategoricalCrossentropy(from_logits=True), # 훈련 중 모델이 얼마나 정확한지 측정\n",
    "              metrics=['accuracy']) # 훈련 및 테스트 단계를 모니터링\n",
    "\n",
    "# optimizer : https://www.tensorflow.org/api_docs/python/tf/keras/optimizers?hl=ko\n",
    "# loss : https://www.tensorflow.org/api_docs/python/tf/keras/losses?hl=ko\n",
    "# metrics : https://www.tensorflow.org/api_docs/python/tf/keras/metrics?hl=ko"
   ]
  },
  {
   "cell_type": "markdown",
   "metadata": {},
   "source": [
    "## 모델 훈련"
   ]
  },
  {
   "cell_type": "code",
   "execution_count": null,
   "metadata": {},
   "outputs": [],
   "source": [
    "# 모델이 image와 label을 매핑하는 방법을 배움\n",
    "model.fit(train_images, train_labels, epochs=10)\n",
    "\n",
    "# fit : https://www.tensorflow.org/api_docs/python/tf/keras/Model?hl=ko#fit\n",
    "\n",
    "# epoch(에포크)\n",
    "# 훈련 데이터셋에 포함된 모든 데이터들이 한 번씩 모델을 통과한 횟수로, 모든 학습 데이터셋을 한 번 통과했다는 의미가 됨\n",
    "# 1 epoch는 전체 학습 데이터셋이 한 신경망에 적용되어 순전파와 역전파를 통해 신경망을 한 번 통과했다는 의미\n",
    "# epochs=10 | 학습 데이터 셋을 10회 모델에 학습시켰다는 의미\n",
    "# epoch를 높일수록, 다양한 무작위 가중치로 학습을 하므로 적합한 파라미터를 찾을 확률이 올라감\n",
    "# 하지만 epoch를 지나치게 높이게 되면, 그 학습 데이터셋에 과적합되어 다른 데이터에 대해선 제대로 된 예측을 하지 못할 수 있음"
   ]
  },
  {
   "cell_type": "markdown",
   "metadata": {},
   "source": [
    "## 정확도 평가"
   ]
  },
  {
   "cell_type": "code",
   "execution_count": null,
   "metadata": {},
   "outputs": [],
   "source": [
    "# test_images, test_labels로 학습모델의 정확도 평가\n",
    "test_loss, test_acc = model.evaluate(test_images, test_labels, verbose=2)\n",
    "\n",
    "# verbose : 함수 수행 시 발생하는 상세한 정보들을 표준 출력으로 자세히 내보낼 것인가 나타냄\n",
    "# verbose = 0 | 출력하지 않음\n",
    "# verbose = 1 | 자세히 출력\n",
    "# verbose = 2 | 함축적인 정보만 출력\n",
    "\n",
    "print('\\nTest Accuracy : ' , test_acc)"
   ]
  },
  {
   "cell_type": "markdown",
   "metadata": {},
   "source": [
    "## 예측하기"
   ]
  },
  {
   "cell_type": "code",
   "execution_count": null,
   "metadata": {},
   "outputs": [],
   "source": [
    "# 훈련된 모델을 사용하여 이미지에 대한 예측을 수행, 아래의 경우 Softmax레이어를 연결하여 확률 변환\n",
    "probability_model = tf.keras.Sequential([model,tf.keras.layers.Softmax()])\n",
    "\n",
    "predictions = probability_model.predict(test_images) # test_images에 있는 각 이미지의 레이블 예측"
   ]
  },
  {
   "cell_type": "code",
   "execution_count": null,
   "metadata": {},
   "outputs": [],
   "source": [
    "# test_images[0]의 사진\n",
    "plt.figure() #새로운 figure 생성\n",
    "plt.imshow(test_images[0]) #train_images에 있는 첫번째 이미지\n",
    "plt.grid(False) #격자 없애기\n",
    "plt.show() #그래프 화면에 나타내기"
   ]
  },
  {
   "cell_type": "code",
   "execution_count": null,
   "metadata": {},
   "outputs": [],
   "source": [
    "# test_labels[0]\n",
    "print(\"Orignial :\" , test_labels[0] , \"|\", class_names[test_labels[0]])\n",
    "\n",
    "# 학습 모델의 예측\n",
    "print(\"Prediction :\" , np.argmax(predictions[0]) , \"|\", class_names[np.argmax(predictions[0])])\n",
    "\n",
    "#\n",
    "if test_labels[0] == np.argmax(predictions[0]):\n",
    "  print(\"[Prediction Result] : true\")\n",
    "\n",
    "else:\n",
    "  print(\"[Prediction Result] : false\")\n"
   ]
  },
  {
   "cell_type": "code",
   "execution_count": null,
   "metadata": {},
   "outputs": [],
   "source": [
    "# 10개의 클래스에 대한 예측을 그래프로 표현\n",
    "def plot_image(i, predictions_array, true_label, img):\n",
    "  true_label, img = true_label[i], img[i]\n",
    "  plt.grid(False)\n",
    "  plt.xticks([])\n",
    "  plt.yticks([])\n",
    "\n",
    "  plt.imshow(img, cmap=plt.cm.binary)\n",
    "\n",
    "  predicted_label = np.argmax(predictions_array)\n",
    "  if predicted_label == true_label:\n",
    "    color = 'blue'\n",
    "  else:\n",
    "    color = 'red'\n",
    "\n",
    "  # 결과 출력\n",
    "  plt.xlabel(\"{} {:2.0f}% ({})\".format(class_names[predicted_label],\n",
    "                                100*np.max(predictions_array),\n",
    "                                class_names[true_label]),\n",
    "                                color=color)\n",
    "\n",
    "def plot_value_array(i, predictions_array, true_label):\n",
    "  true_label = true_label[i]\n",
    "  plt.grid(False)\n",
    "  plt.xticks(range(10))\n",
    "  plt.yticks([])\n",
    "\n",
    "  thisplot = plt.bar(range(10), predictions_array, color=\"#777777\")\n",
    "  plt.ylim([0, 1])\n",
    "  \n",
    "  predicted_label = np.argmax(predictions_array)\n",
    "\n",
    "  thisplot[predicted_label].set_color('red')\n",
    "  thisplot[true_label].set_color('blue')"
   ]
  },
  {
   "cell_type": "code",
   "execution_count": null,
   "metadata": {},
   "outputs": [],
   "source": [
    "# [0]이미지에 대한 예측 결과와 확률\n",
    "i = 0\n",
    "plt.figure(figsize=(6,3))\n",
    "plt.subplot(1,2,1)\n",
    "plot_image(i, predictions[i], test_labels, test_images)\n",
    "plt.subplot(1,2,2)\n",
    "plot_value_array(i, predictions[i],  test_labels)\n",
    "plt.show()"
   ]
  },
  {
   "cell_type": "code",
   "execution_count": null,
   "metadata": {},
   "outputs": [],
   "source": [
    "# 25개에 대한 예측 결과\n",
    "num_rows = 5\n",
    "num_cols = 3\n",
    "num_images = num_rows*num_cols\n",
    "plt.figure(figsize=(2*2*num_cols, 2*num_rows))\n",
    "for i in range(num_images):\n",
    "  plt.subplot(num_rows, 2*num_cols, 2*i+1)\n",
    "  plot_image(i, predictions[i], test_labels, test_images)\n",
    "  plt.subplot(num_rows, 2*num_cols, 2*i+2)\n",
    "  plot_value_array(i, predictions[i], test_labels)\n",
    "plt.tight_layout()\n",
    "plt.show()"
   ]
  },
  {
   "cell_type": "markdown",
   "metadata": {},
   "source": [
    "## 훈련된 모델 사용하기"
   ]
  },
  {
   "cell_type": "code",
   "execution_count": null,
   "metadata": {},
   "outputs": [],
   "source": [
    "# test_images에서 사진 하나 가져오기\n",
    "img = test_images[1]\n",
    "\n",
    "print(img.shape)"
   ]
  },
  {
   "cell_type": "code",
   "execution_count": null,
   "metadata": {},
   "outputs": [],
   "source": [
    "#차원 추가\n",
    "img = (np.expand_dims(img,0)) \n",
    "\n",
    "print(img.shape)"
   ]
  },
  {
   "cell_type": "code",
   "execution_count": null,
   "metadata": {},
   "outputs": [],
   "source": [
    "# 임의의 데이터에 대한 예측을 만듦\n",
    "\n",
    "predictions_single = probability_model.predict(img)\n",
    "\n",
    "print(predictions_single)\n"
   ]
  },
  {
   "cell_type": "code",
   "execution_count": null,
   "metadata": {},
   "outputs": [],
   "source": [
    "plot_value_array(1, predictions_single[0], test_labels)\n",
    "_ = plt.xticks(range(10), class_names, rotation=45)\n",
    "plt.show()\n",
    "\n",
    "print(\"This is \", class_names[np.argmax(predictions_single[0])])"
   ]
  },
  {
   "cell_type": "code",
   "execution_count": null,
   "metadata": {},
   "outputs": [],
   "source": []
  }
 ],
 "metadata": {
  "interpreter": {
   "hash": "7500d5622bf2206d241ee1fab9e08b65112b6fa2012fce70b42a0e7cc15625be"
  },
  "kernelspec": {
   "display_name": "Python 3.9.13 ('tf_mac')",
   "language": "python",
   "name": "python3"
  },
  "language_info": {
   "codemirror_mode": {
    "name": "ipython",
    "version": 3
   },
   "file_extension": ".py",
   "mimetype": "text/x-python",
   "name": "python",
   "nbconvert_exporter": "python",
   "pygments_lexer": "ipython3",
   "version": "3.9.13"
  },
  "orig_nbformat": 4
 },
 "nbformat": 4,
 "nbformat_minor": 2
}
