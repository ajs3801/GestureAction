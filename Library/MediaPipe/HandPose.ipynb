{
 "cells": [
  {
   "cell_type": "code",
   "execution_count": 2,
   "id": "4d6dfe9f",
   "metadata": {
    "scrolled": true
   },
   "outputs": [
    {
     "name": "stdout",
     "output_type": "stream",
     "text": [
      "Requirement already satisfied: mediapipe in /Users/devjs/pose/lib/python3.7/site-packages (0.8.10)\n",
      "Requirement already satisfied: opencv-python in /Users/devjs/pose/lib/python3.7/site-packages (4.6.0.66)\n",
      "Requirement already satisfied: protobuf>=3.11.4 in /Users/devjs/pose/lib/python3.7/site-packages (from mediapipe) (4.21.1)\n",
      "Requirement already satisfied: matplotlib in /Users/devjs/pose/lib/python3.7/site-packages (from mediapipe) (3.5.2)\n",
      "Requirement already satisfied: absl-py in /Users/devjs/pose/lib/python3.7/site-packages (from mediapipe) (1.1.0)\n",
      "Requirement already satisfied: attrs>=19.1.0 in /Users/devjs/pose/lib/python3.7/site-packages (from mediapipe) (21.4.0)\n",
      "Requirement already satisfied: numpy in /Users/devjs/pose/lib/python3.7/site-packages (from mediapipe) (1.21.6)\n",
      "Requirement already satisfied: opencv-contrib-python in /Users/devjs/pose/lib/python3.7/site-packages (from mediapipe) (4.6.0.66)\n",
      "Requirement already satisfied: cycler>=0.10 in /Users/devjs/pose/lib/python3.7/site-packages (from matplotlib->mediapipe) (0.11.0)\n",
      "Requirement already satisfied: pyparsing>=2.2.1 in /Users/devjs/pose/lib/python3.7/site-packages (from matplotlib->mediapipe) (3.0.9)\n",
      "Requirement already satisfied: fonttools>=4.22.0 in /Users/devjs/pose/lib/python3.7/site-packages (from matplotlib->mediapipe) (4.33.3)\n",
      "Requirement already satisfied: python-dateutil>=2.7 in /Users/devjs/pose/lib/python3.7/site-packages (from matplotlib->mediapipe) (2.8.2)\n",
      "Requirement already satisfied: packaging>=20.0 in /Users/devjs/pose/lib/python3.7/site-packages (from matplotlib->mediapipe) (21.3)\n",
      "Requirement already satisfied: kiwisolver>=1.0.1 in /Users/devjs/pose/lib/python3.7/site-packages (from matplotlib->mediapipe) (1.4.2)\n",
      "Requirement already satisfied: pillow>=6.2.0 in /Users/devjs/pose/lib/python3.7/site-packages (from matplotlib->mediapipe) (9.1.1)\n",
      "Requirement already satisfied: typing-extensions in /Users/devjs/pose/lib/python3.7/site-packages (from kiwisolver>=1.0.1->matplotlib->mediapipe) (4.2.0)\n",
      "Requirement already satisfied: six>=1.5 in /Users/devjs/pose/lib/python3.7/site-packages (from python-dateutil>=2.7->matplotlib->mediapipe) (1.16.0)\n"
     ]
    }
   ],
   "source": [
    "# !pip install mediapipe opencv-python #Window\n",
    "!arch -x86_64 pip install mediapipe opencv-python # MacOS (m1)"
   ]
  },
  {
   "cell_type": "code",
   "execution_count": 7,
   "id": "8effc5e6",
   "metadata": {},
   "outputs": [
    {
     "name": "stdout",
     "output_type": "stream",
     "text": [
      "Requirement already satisfied: mediapipe in /Users/devjs/pose-detection/lib/python3.7/site-packages (0.8.10)\n",
      "Requirement already satisfied: attrs>=19.1.0 in /Users/devjs/pose-detection/lib/python3.7/site-packages (from mediapipe) (21.4.0)\n",
      "Requirement already satisfied: numpy in /Users/devjs/pose-detection/lib/python3.7/site-packages (from mediapipe) (1.21.6)\n",
      "Requirement already satisfied: absl-py in /Users/devjs/pose-detection/lib/python3.7/site-packages (from mediapipe) (1.1.0)\n",
      "Requirement already satisfied: matplotlib in /Users/devjs/pose-detection/lib/python3.7/site-packages (from mediapipe) (3.5.2)\n",
      "Requirement already satisfied: opencv-contrib-python in /Users/devjs/pose-detection/lib/python3.7/site-packages (from mediapipe) (4.6.0.66)\n",
      "Requirement already satisfied: protobuf>=3.11.4 in /Users/devjs/pose-detection/lib/python3.7/site-packages (from mediapipe) (4.21.1)\n",
      "Requirement already satisfied: kiwisolver>=1.0.1 in /Users/devjs/pose-detection/lib/python3.7/site-packages (from matplotlib->mediapipe) (1.4.2)\n",
      "Requirement already satisfied: cycler>=0.10 in /Users/devjs/pose-detection/lib/python3.7/site-packages (from matplotlib->mediapipe) (0.11.0)\n",
      "Requirement already satisfied: fonttools>=4.22.0 in /Users/devjs/pose-detection/lib/python3.7/site-packages (from matplotlib->mediapipe) (4.33.3)\n",
      "Requirement already satisfied: python-dateutil>=2.7 in /Users/devjs/pose-detection/lib/python3.7/site-packages (from matplotlib->mediapipe) (2.8.2)\n",
      "Requirement already satisfied: pyparsing>=2.2.1 in /Users/devjs/pose-detection/lib/python3.7/site-packages (from matplotlib->mediapipe) (3.0.9)\n",
      "Requirement already satisfied: packaging>=20.0 in /Users/devjs/pose-detection/lib/python3.7/site-packages (from matplotlib->mediapipe) (21.3)\n",
      "Requirement already satisfied: pillow>=6.2.0 in /Users/devjs/pose-detection/lib/python3.7/site-packages (from matplotlib->mediapipe) (9.1.1)\n",
      "Requirement already satisfied: typing-extensions in /Users/devjs/pose-detection/lib/python3.7/site-packages (from kiwisolver>=1.0.1->matplotlib->mediapipe) (4.2.0)\n",
      "Requirement already satisfied: six>=1.5 in /Users/devjs/pose-detection/lib/python3.7/site-packages (from python-dateutil>=2.7->matplotlib->mediapipe) (1.16.0)\n"
     ]
    }
   ],
   "source": [
    "!arch -x86_64 pip install mediapipe"
   ]
  },
  {
   "cell_type": "code",
   "execution_count": 3,
   "id": "6aec9965",
   "metadata": {},
   "outputs": [
    {
     "ename": "ModuleNotFoundError",
     "evalue": "No module named 'mediapipe'",
     "output_type": "error",
     "traceback": [
      "\u001b[0;31m---------------------------------------------------------------------------\u001b[0m",
      "\u001b[0;31mModuleNotFoundError\u001b[0m                       Traceback (most recent call last)",
      "Input \u001b[0;32mIn [3]\u001b[0m, in \u001b[0;36m<cell line: 1>\u001b[0;34m()\u001b[0m\n\u001b[0;32m----> 1\u001b[0m \u001b[38;5;28;01mimport\u001b[39;00m \u001b[38;5;21;01mmediapipe\u001b[39;00m \u001b[38;5;28;01mas\u001b[39;00m \u001b[38;5;21;01mmp\u001b[39;00m \n\u001b[1;32m      2\u001b[0m \u001b[38;5;28;01mimport\u001b[39;00m \u001b[38;5;21;01mcv2\u001b[39;00m \n\u001b[1;32m      3\u001b[0m \u001b[38;5;28;01mimport\u001b[39;00m \u001b[38;5;21;01mnumpy\u001b[39;00m \u001b[38;5;28;01mas\u001b[39;00m \u001b[38;5;21;01mnp\u001b[39;00m \n",
      "\u001b[0;31mModuleNotFoundError\u001b[0m: No module named 'mediapipe'"
     ]
    }
   ],
   "source": [
    "import mediapipe as mp \n",
    "import cv2 \n",
    "import numpy as np \n",
    "import uuid \n",
    "import os"
   ]
  },
  {
   "cell_type": "code",
   "execution_count": 2,
   "id": "54bf818a",
   "metadata": {},
   "outputs": [
    {
     "ename": "NameError",
     "evalue": "name 'mp' is not defined",
     "output_type": "error",
     "traceback": [
      "\u001b[0;31m---------------------------------------------------------------------------\u001b[0m",
      "\u001b[0;31mNameError\u001b[0m                                 Traceback (most recent call last)",
      "Input \u001b[0;32mIn [2]\u001b[0m, in \u001b[0;36m<cell line: 1>\u001b[0;34m()\u001b[0m\n\u001b[0;32m----> 1\u001b[0m mp_drawing \u001b[38;5;241m=\u001b[39m \u001b[43mmp\u001b[49m\u001b[38;5;241m.\u001b[39msolutions\u001b[38;5;241m.\u001b[39mdrawing_utils\n\u001b[1;32m      2\u001b[0m mp_hands \u001b[38;5;241m=\u001b[39m mp\u001b[38;5;241m.\u001b[39msolutions\u001b[38;5;241m.\u001b[39mhands\n",
      "\u001b[0;31mNameError\u001b[0m: name 'mp' is not defined"
     ]
    }
   ],
   "source": [
    "mp_drawing = mp.solutions.drawing_utils\n",
    "mp_hands = mp.solutions.hands"
   ]
  },
  {
   "cell_type": "code",
   "execution_count": 10,
   "id": "03b00566",
   "metadata": {},
   "outputs": [],
   "source": [
    "# cap = cv2.VideoCapture(0) #Windows\n",
    "cap = cv2.VideoCapture(0,cv2.CAP_AVFOUNDATION) #MacOS\n",
    "with mp_hands.Hands(min_detection_confidence=0.8, min_tracking_confidence=0.5) as hands:\n",
    "    while cap.isOpened():\n",
    "    #ret\n",
    "    #frame\n",
    "        ret, frame = cap.read()\n",
    "        \n",
    "        #BGR 2 RGB\n",
    "        image = cv2.cvtColor(frame, cv2.COLOR_BGR2RGB) #change Color Combinations\n",
    "        \n",
    "        #Flip on horizontal\n",
    "        image = cv2.flip(image,1)\n",
    "        \n",
    "        #Set flag\n",
    "        image.flags.writeable = True\n",
    "    \n",
    "        #Detections\n",
    "        results = hands.process(image)\n",
    "    \n",
    "        # Set flag to true\n",
    "        image.flags.writeable = True\n",
    "    \n",
    "        #RGB to BGR\n",
    "        image = cv2.cvtColor(image, cv2.COLOR_RGB2BGR)\n",
    "        #print(results)\n",
    "        \n",
    "        #Rendering results\n",
    "        if results.multi_hand_landmarks:\n",
    "            for num,hand in enumerate(results.multi_hand_landmarks):\n",
    "                mp_drawing.draw_landmarks(image,hand,mp_hands.HAND_CONNECTIONS,\n",
    "                                         mp_drawing.DrawingSpec(color=(121,22,76), thickness=2, circle_radius=4),\n",
    "                                         mp_drawing.DrawingSpec(color=(121,44,250), thickness=2, circle_radius=2),\n",
    "                                         )\n",
    "                \n",
    "        cv2.imshow('Hand Tracking', image)\n",
    "    \n",
    "        if (cv2.waitKey(10) & 0xFF == ord('q')):\n",
    "            break\n",
    "        \n",
    "cap.release()\n",
    "cv2.destroyAllWindows()"
   ]
  },
  {
   "cell_type": "code",
   "execution_count": null,
   "id": "677eba3c",
   "metadata": {},
   "outputs": [],
   "source": [
    "results"
   ]
  },
  {
   "cell_type": "code",
   "execution_count": null,
   "id": "ce83e21a",
   "metadata": {},
   "outputs": [],
   "source": [
    "results.multi_hand_landmarks"
   ]
  },
  {
   "cell_type": "code",
   "execution_count": null,
   "id": "6f09bf05",
   "metadata": {},
   "outputs": [],
   "source": [
    "mp_hands.HAND_CONNECTIONS"
   ]
  },
  {
   "cell_type": "code",
   "execution_count": null,
   "id": "24926269",
   "metadata": {},
   "outputs": [],
   "source": [
    "mp_drawing.draw_landmarks??"
   ]
  },
  {
   "cell_type": "code",
   "execution_count": null,
   "id": "b9b9342c",
   "metadata": {},
   "outputs": [],
   "source": [
    "mp_drawing.DrawingSpec??"
   ]
  },
  {
   "cell_type": "code",
   "execution_count": null,
   "id": "c82cad1b",
   "metadata": {},
   "outputs": [],
   "source": [
    "os.mkdir('Output Images')"
   ]
  },
  {
   "cell_type": "code",
   "execution_count": null,
   "id": "5605f7bd",
   "metadata": {},
   "outputs": [],
   "source": [
    "cap = cv2.VideoCapture(0)\n",
    "with mp_hands.Hands(min_detection_confidence=0.8, min_tracking_confidence=0.5) as hands:\n",
    "    while cap.isOpened():\n",
    "    #ret\n",
    "    #frame\n",
    "        ret, frame = cap.read()\n",
    "        \n",
    "        #BGR 2 RGB\n",
    "        image = cv2.cvtColor(frame, cv2.COLOR_BGR2RGB) #change Color Combinations\n",
    "        \n",
    "        #Flip on horizontal\n",
    "        image = cv2.flip(image,1)\n",
    "        \n",
    "        #Set flag\n",
    "        image.flags.writeable = True\n",
    "    \n",
    "        #Detections\n",
    "        results = hands.process(image)\n",
    "    \n",
    "        # Set flag to true\n",
    "        image.flags.writeable = True\n",
    "    \n",
    "        #RGB to BGR\n",
    "        image = cv2.cvtColor(image, cv2.COLOR_RGB2BGR)\n",
    "        print(results)\n",
    "        \n",
    "        #Rendering results\n",
    "        if results.multi_hand_landmarks:\n",
    "            for num,hand in enumerate(results.multi_hand_landmarks):\n",
    "                mp_drawing.draw_landmarks(image,hand,mp_hands.HAND_CONNECTIONS,\n",
    "                                        mp_drawing.DrawingSpec(color=(121,22,76), thickness=2, circle_radius=4),\n",
    "                                        mp_drawing.DrawingSpec(color=(121,44,250), thickness=2, circle_radius=2),\n",
    "                                        )\n",
    "                \n",
    "        cv2.imshow('Hand Tracking', image)\n",
    "        \n",
    "        #Save our image\n",
    "        cv2.imwrite(os.path.join('Output Images','{}.jpg'.format(uuid.uuid1())),image))\n",
    "        \n",
    "        if (cv2.waitKey(10) & 0xFF == ord('q')):\n",
    "            break\n",
    "        \n",
    "cap.release()\n",
    "cv2.destroyAllWindows()\n",
    "cv2.waitKey(1)"
   ]
  }
 ],
 "metadata": {
  "kernelspec": {
   "display_name": "ftod",
   "language": "python",
   "name": "ftod"
  },
  "language_info": {
   "codemirror_mode": {
    "name": "ipython",
    "version": 3
   },
   "file_extension": ".py",
   "mimetype": "text/x-python",
   "name": "python",
   "nbconvert_exporter": "python",
   "pygments_lexer": "ipython3",
   "version": "3.9.13"
  }
 },
 "nbformat": 4,
 "nbformat_minor": 5
}
