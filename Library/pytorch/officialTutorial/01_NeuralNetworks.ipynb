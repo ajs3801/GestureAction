{
 "cells": [
  {
   "cell_type": "code",
   "execution_count": 1,
   "metadata": {},
   "outputs": [],
   "source": [
    "import torch\n",
    "import torch.nn as nn\n",
    "import torch.nn.functional as F"
   ]
  },
  {
   "cell_type": "code",
   "execution_count": null,
   "metadata": {},
   "outputs": [],
   "source": [
    "class Net(nn.Module):\n",
    "  def __init__(self):\n",
    "    super(Net,self).__init__()\n",
    "\n",
    "    self.conv1 = nn.Conv2d(in_channels=1,out_channels=6,kernel_size=5)\n",
    "    self.conv1 = nn.Conv2d(in_channels=6,out_channels=16,kernel_size=5)\n",
    "\n",
    "    self.fc1 = nn.Linear(16 * 5 * 5, 120)\n",
    "    self.fc2 = nn.Linear(120,84)\n",
    "    self.fc3 = nn.Linear(84,10)\n",
    "\n",
    "  # 모델이 학습데이터를 입력받아서 forward 연산을 진행시키는 함수\n",
    "  # model 객체를 데이터와 함께 호출하면 자동으로 실행됨\n",
    "  def forward(self,x):\n",
    "    \n"
   ]
  }
 ],
 "metadata": {
  "kernelspec": {
   "display_name": "Python 3.9.12 ('PyTorch_cpu')",
   "language": "python",
   "name": "python3"
  },
  "language_info": {
   "codemirror_mode": {
    "name": "ipython",
    "version": 3
   },
   "file_extension": ".py",
   "mimetype": "text/x-python",
   "name": "python",
   "nbconvert_exporter": "python",
   "pygments_lexer": "ipython3",
   "version": "3.9.12"
  },
  "orig_nbformat": 4,
  "vscode": {
   "interpreter": {
    "hash": "d786d82d73ac66d1ba32e56ec6486a946c1410d7cf95129a7e4421917eda0730"
   }
  }
 },
 "nbformat": 4,
 "nbformat_minor": 2
}
