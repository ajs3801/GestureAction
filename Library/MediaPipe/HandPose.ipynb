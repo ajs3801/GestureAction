{
 "cells": [
  {
   "cell_type": "code",
   "execution_count": null,
   "id": "4d6dfe9f",
   "metadata": {
    "scrolled": true
   },
   "outputs": [],
   "source": [
    "# !pip install mediapipe opencv-python #Window\n",
    "!pip install mediapipe opencv-python # MacOS (m1)"
   ]
  },
  {
   "cell_type": "code",
   "execution_count": null,
   "id": "8effc5e6",
   "metadata": {},
   "outputs": [],
   "source": [
    "!arch -x86_64 pip install mediapipe"
   ]
  },
  {
   "cell_type": "code",
   "execution_count": null,
   "id": "566aef2d",
   "metadata": {},
   "outputs": [],
   "source": [
    "!python -m pip install --upgrade pip"
   ]
  },
  {
   "cell_type": "code",
   "execution_count": null,
   "id": "46f801ef",
   "metadata": {},
   "outputs": [],
   "source": [
    "!pip install mediapipe-silicon opencv-python"
   ]
  },
  {
   "cell_type": "code",
   "execution_count": null,
   "id": "38673644",
   "metadata": {},
   "outputs": [],
   "source": [
    "!pip uninstall pyautogui"
   ]
  },
  {
   "cell_type": "code",
   "execution_count": null,
   "id": "c8168dd4",
   "metadata": {},
   "outputs": [],
   "source": [
    "import sys\n",
    "sys.executable"
   ]
  },
  {
   "cell_type": "code",
   "execution_count": null,
   "id": "381c9155",
   "metadata": {},
   "outputs": [],
   "source": [
    "!python3 -m pip install pyautogui"
   ]
  },
  {
   "cell_type": "markdown",
   "id": "4860e560",
   "metadata": {},
   "source": []
  },
  {
   "cell_type": "code",
   "execution_count": null,
   "id": "28360573",
   "metadata": {},
   "outputs": [],
   "source": [
    "import sys\n",
    "sys.executable"
   ]
  },
  {
   "cell_type": "code",
   "execution_count": null,
   "id": "ea373ec0",
   "metadata": {},
   "outputs": [],
   "source": [
    "import pyautogui\n",
    "\n",
    "pyautogui.press('h')"
   ]
  },
  {
   "cell_type": "code",
   "execution_count": null,
   "id": "6f35fc30",
   "metadata": {},
   "outputs": [],
   "source": [
    "import mediapipe as mp"
   ]
  },
  {
   "cell_type": "code",
   "execution_count": null,
   "id": "620285f0",
   "metadata": {},
   "outputs": [],
   "source": [
    "!pip list"
   ]
  },
  {
   "cell_type": "code",
   "execution_count": null,
   "id": "6aec9965",
   "metadata": {},
   "outputs": [],
   "source": [
    "import mediapipe as mp \n",
    "import cv2 \n",
    "import numpy as np \n",
    "import uuid \n",
    "import os\n",
    "import math\n",
    "import pyautogui"
   ]
  },
  {
   "cell_type": "code",
   "execution_count": null,
   "id": "54bf818a",
   "metadata": {},
   "outputs": [],
   "source": [
    "mp_drawing = mp.solutions.drawing_utils\n",
    "mp_hands = mp.solutions.hands"
   ]
  },
  {
   "cell_type": "code",
   "execution_count": null,
   "id": "03b00566",
   "metadata": {},
   "outputs": [],
   "source": [
    "# cap = cv2.VideoCapture(0) #Windows\n",
    "# cap = cv2.VideoCapture(0,cv2.CAP_AVFOUNDATION) #MacOS\n",
    "cap = cv2.VideoCapture(0) #MacOS\n",
    "\n",
    "def dlist(x1,y1,x2,y2):\n",
    "    return math.sqrt(math.pow(x1-x2,2)) + math.sqrt(math.pow(y1-y2,2))\n",
    "with mp_hands.Hands(min_detection_confidence=0.8, min_tracking_confidence=0.5) as hands:\n",
    "    while cap.isOpened():\n",
    "    #ret\n",
    "    #frame\n",
    "        ret, frame = cap.read()\n",
    "        \n",
    "        #BGR 2 RGB\n",
    "        image = cv2.cvtColor(frame, cv2.COLOR_BGR2RGB) #change Color Combinations\n",
    "        \n",
    "        #Flip on horizontal\n",
    "        image = cv2.flip(image,1)\n",
    "        \n",
    "        #Set flag\n",
    "        image.flags.writeable = True\n",
    "    \n",
    "        #Detections\n",
    "        results = hands.process(image)\n",
    "    \n",
    "        # Set flag to true\n",
    "        image.flags.writeable = True\n",
    "    \n",
    "        #RGB to BGR\n",
    "        \n",
    "        image = cv2.cvtColor(image, cv2.COLOR_RGB2BGR)\n",
    "        #print(results)\n",
    "        \n",
    "        #Rendering results\n",
    "        if results.multi_hand_landmarks:\n",
    "            for num,hand in enumerate(results.multi_hand_landmarks):\n",
    "                distanceUP = dlist(hand.landmark[4].x,hand.landmark[4].y,hand.landmark[8].x,hand.landmark[8].y)\n",
    "                distanceDOWN = dlist(hand.landmark[4].x,hand.landmark[4].y,hand.landmark[16].x,hand.landmark[16].y)\n",
    "                up =  distanceUP < 0.06\n",
    "                down = distanceDOWN < 0.06\n",
    "                \n",
    "                if (up == True):\n",
    "                    print(\"scroll up\")\n",
    "                    pyautogui.scroll(2)\n",
    "                \n",
    "                elif (down == True):\n",
    "                    print(\"scroll down\")\n",
    "                    pyautogui.scroll(-2)\n",
    "                    \n",
    "                mp_drawing.draw_landmarks(image,hand,mp_hands.HAND_CONNECTIONS,\n",
    "                                         mp_drawing.DrawingSpec(color=(121,22,76), thickness=2, circle_radius=4),\n",
    "                                         mp_drawing.DrawingSpec(color=(121,44,250), thickness=2, circle_radius=2),\n",
    "                                         )\n",
    "        image = cv2.resize(image, None, fx=0.5 , fy=0.5, interpolation = cv2.INTER_AREA)\n",
    "        cv2.imshow('Hand Tracking', image)\n",
    "    \n",
    "        if (cv2.waitKey(10) & 0xFF == ord('q')):\n",
    "            break\n",
    "        \n",
    "cap.release()\n",
    "cv2.destroyAllWindows()"
   ]
  },
  {
   "cell_type": "code",
   "execution_count": null,
   "id": "677eba3c",
   "metadata": {},
   "outputs": [],
   "source": []
  },
  {
   "cell_type": "code",
   "execution_count": null,
   "id": "ce83e21a",
   "metadata": {},
   "outputs": [],
   "source": [
    "results.multi_hand_landmarks"
   ]
  },
  {
   "cell_type": "code",
   "execution_count": null,
   "id": "6f09bf05",
   "metadata": {},
   "outputs": [],
   "source": [
    "mp_hands.HAND_CONNECTIONS"
   ]
  },
  {
   "cell_type": "code",
   "execution_count": null,
   "id": "24926269",
   "metadata": {},
   "outputs": [],
   "source": [
    "mp_drawing.draw_landmarks??"
   ]
  },
  {
   "cell_type": "code",
   "execution_count": null,
   "id": "b9b9342c",
   "metadata": {},
   "outputs": [],
   "source": [
    "mp_drawing.DrawingSpec??"
   ]
  },
  {
   "cell_type": "code",
   "execution_count": null,
   "id": "c82cad1b",
   "metadata": {},
   "outputs": [],
   "source": [
    "os.mkdir('Output Images')"
   ]
  },
  {
   "cell_type": "code",
   "execution_count": null,
   "id": "5605f7bd",
   "metadata": {},
   "outputs": [],
   "source": [
    "cap = cv2.VideoCapture(0)\n",
    "with mp_hands.Hands(min_detection_confidence=0.8, min_tracking_confidence=0.5) as hands:\n",
    "    while cap.isOpened():\n",
    "    #ret\n",
    "    #frame\n",
    "        ret, frame = cap.read()\n",
    "        \n",
    "        #BGR 2 RGB\n",
    "        image = cv2.cvtColor(frame, cv2.COLOR_BGR2RGB) #change Color Combinations\n",
    "        \n",
    "        #Flip on horizontal\n",
    "        image = cv2.flip(image,1)\n",
    "        \n",
    "        #Set flag\n",
    "        image.flags.writeable = True\n",
    "    \n",
    "        #Detections\n",
    "        results = hands.process(image)\n",
    "    \n",
    "        # Set flag to true\n",
    "        image.flags.writeable = True\n",
    "    \n",
    "        #RGB to BGR\n",
    "        image = cv2.cvtColor(image, cv2.COLOR_RGB2BGR)\n",
    "        print(results)\n",
    "        \n",
    "        #Rendering results\n",
    "        if results.multi_hand_landmarks:\n",
    "            for num,hand in enumerate(results.multi_hand_landmarks):\n",
    "                mp_drawing.draw_landmarks(image,hand,mp_hands.HAND_CONNECTIONS,\n",
    "                                        mp_drawing.DrawingSpec(color=(121,22,76), thickness=2, circle_radius=4),\n",
    "                                        mp_drawing.DrawingSpec(color=(121,44,250), thickness=2, circle_radius=2),\n",
    "                                        )\n",
    "                \n",
    "        cv2.imshow('Hand Tracking', image)\n",
    "        \n",
    "        #Save our image\n",
    "        cv2.imwrite(os.path.join('Output Images','{}.jpg'.format(uuid.uuid1())),image))\n",
    "        \n",
    "        if (cv2.waitKey(10) & 0xFF == ord('q')):\n",
    "            break\n",
    "        \n",
    "cap.release()\n",
    "cv2.destroyAllWindows()\n",
    "cv2.waitKey(1)"
   ]
  },
  {
   "cell_type": "code",
   "execution_count": null,
   "id": "9e6d9471",
   "metadata": {},
   "outputs": [],
   "source": []
  },
  {
   "cell_type": "code",
   "execution_count": null,
   "id": "6819ebb0",
   "metadata": {},
   "outputs": [],
   "source": []
  }
 ],
 "metadata": {
  "interpreter": {
   "hash": "0fcc3d74601d85a62cfd94271d4d8fe6bc28f05c2df3e159981627a9a5b57df8"
  },
  "kernelspec": {
   "display_name": "Python 3.9.12 64-bit",
   "language": "python",
   "name": "python3"
  },
  "language_info": {
   "codemirror_mode": {
    "name": "ipython",
    "version": 3
   },
   "file_extension": ".py",
   "mimetype": "text/x-python",
   "name": "python",
   "nbconvert_exporter": "python",
   "pygments_lexer": "ipython3",
   "version": "3.9.13"
  }
 },
 "nbformat": 4,
 "nbformat_minor": 5
}
