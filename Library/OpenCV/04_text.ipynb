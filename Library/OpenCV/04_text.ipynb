{
 "cells": [
  {
   "cell_type": "code",
   "execution_count": null,
   "metadata": {},
   "outputs": [],
   "source": [
    "# 텍스트\n",
    "# 1. cv2.FONT_HERSHEY_SIMPLEX : 보통 크기의 산 세리프 글꼴\n",
    "# 2. cv2.FONT_HERSHEY_PLAIN : 작은 크기의 산 세리프 글꼴\n",
    "# 3. cv2.FONT_HERSHEY_SCRIPT_SIMPLEC : 필기체 스타일 글꼴\n",
    "# 4. cv2.FONT_HERSHEY_TRIPLEX : 보통 크기의 산 세리프 글꼴\n",
    "# 5. cv2.FONT_ITALIC : 기울임 (이탤릭체)\n",
    "\n",
    "import cv2\n",
    "import numpy as np\n",
    "\n",
    "img = np.zeros((480,640,3), dtype=np.uint8)\n",
    "\n",
    "SCALE = 1\n",
    "COLOR = (255,255,255) \n",
    "THICKNESS = 1\n",
    "\n",
    "# 글자 넣기\n",
    "cv2.putText(img, \"Simplex\", (20,50), cv2.FONT_HERSHEY_SIMPLEX, SCALE, COLOR, THICKNESS)\n",
    "#          넣을위치  텍스트내용   시작위치    폰트종류                  크기     색깔     두께\n",
    "cv2.putText(img, \"Plain\", (20,150), cv2.FONT_HERSHEY_PLAIN, SCALE, COLOR, THICKNESS)\n",
    "cv2.putText(img, \"Script Simplex\", (20,250), cv2.FONT_HERSHEY_SCRIPT_SIMPLEX, SCALE, COLOR, THICKNESS)\n",
    "cv2.putText(img, \"Triplex\", (20,350), cv2.FONT_HERSHEY_TRIPLEX, SCALE, COLOR, THICKNESS)\n",
    "cv2.putText(img, \"Italic\", (20,450), cv2.FONT_HERSHEY_SIMPLEX | cv2.FONT_ITALIC, SCALE, COLOR, THICKNESS)\n",
    "\n",
    "cv2.imshow('img', img)\n",
    "cv2.waitKey(0)\n",
    "\n",
    "cv2.destroyAllWindows()\n",
    "cv2.waitKey(1)"
   ]
  },
  {
   "cell_type": "code",
   "execution_count": null,
   "id": "48f0451d",
   "metadata": {},
   "outputs": [],
   "source": [
    "# 한글 입력 (openCV 한글지원 X)\n",
    "# PIL (Python Image Library)\n",
    "\n",
    "from PIL import ImageFont, ImageDraw, Image\n",
    "import cv2\n",
    "import numpy as np\n",
    "\n",
    "def myPutText(src,text,pos,font_size,font_color):\n",
    "  img_pil = Image.fromarray(src)\n",
    "  draw = ImageDraw.Draw(img_pil)\n",
    "  font = ImageFont.truetype('fonts/gulim.ttc', font_size)\n",
    "  draw.text(pos,text,font=font, fill=font_color)\n",
    "\n",
    "  return np.array(img_pil)\n",
    "\n",
    "img = np.zeros((480,640,3), dtype=np.uint8)\n",
    "\n",
    "FONT_SIZE = 30\n",
    "COLOR = (255,255,255) \n",
    "\n",
    "\n",
    "# 한글 넣기\n",
    "img = myPutText(img , \"안녕하세요\" , (20,50) , FONT_SIZE , COLOR)\n",
    "\n",
    "cv2.imshow('img', img)\n",
    "cv2.waitKey(0)\n",
    "\n",
    "cv2.destroyAllWindows()\n",
    "cv2.waitKey(1)"
   ]
  }
 ],
 "metadata": {
  "interpreter": {
   "hash": "b0fa6594d8f4cbf19f97940f81e996739fb7646882a419484c72d19e05852a7e"
  },
  "kernelspec": {
   "display_name": "Python 3.9.12 64-bit",
   "language": "python",
   "name": "python3"
  },
  "language_info": {
   "codemirror_mode": {
    "name": "ipython",
    "version": 3
   },
   "file_extension": ".py",
   "mimetype": "text/x-python",
   "name": "python",
   "nbconvert_exporter": "python",
   "pygments_lexer": "ipython3",
   "version": "3.9.13"
  }
 },
 "nbformat": 4,
 "nbformat_minor": 5
}
