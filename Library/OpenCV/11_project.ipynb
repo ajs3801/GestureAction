{
 "cells": [
  {
   "cell_type": "code",
   "execution_count": 2,
   "metadata": {},
   "outputs": [
    {
     "name": "stdout",
     "output_type": "stream",
     "text": [
      "385 240\n",
      "385 240\n",
      "354 491\n",
      "354 491\n",
      "147 344\n",
      "147 344\n",
      "555 187\n",
      "359 333\n",
      "359 333\n",
      "503 213\n",
      "103 75\n",
      "103 75\n"
     ]
    },
    {
     "data": {
      "text/plain": [
       "-1"
      ]
     },
     "execution_count": 2,
     "metadata": {},
     "output_type": "execute_result"
    }
   ],
   "source": [
    "# 반자동 스캐너\n",
    "\n",
    "import cv2\n",
    "\n",
    "def mouse_handler(event, x, y, flags, param):\n",
    "  if event == cv2.EVENT_LBUTTONDOWN:\n",
    "    print(x,y)\n",
    "\n",
    "  elif event == cv2.EVENT_LBUTTONUP:\n",
    "    print(x,y)\n",
    "  \n",
    "  elif event == cv2.EVENT_LBUTTONDBLCLK:\n",
    "    print('double click')\n",
    "\n",
    "  # elif event == cv2.EVENT_MOUSEMOVE:\n",
    "  #   print('mouse move')\n",
    "\n",
    "  elif event == cv2.EVENT_RBUTTONDOWN:\n",
    "    print(x,y)\n",
    "\n",
    "img = cv2.imread('image/poker.jpg')\n",
    "cv2.namedWindow('img')\n",
    "cv2.setMouseCallback('img', mouse_handler)\n",
    "\n",
    "cv2.imshow('img' , img)\n",
    "\n",
    "cv2.waitKey(0)\n",
    "\n",
    "cv2.destroyAllWindows()\n",
    "cv2.waitKey(1)"
   ]
  }
 ],
 "metadata": {
  "interpreter": {
   "hash": "b0fa6594d8f4cbf19f97940f81e996739fb7646882a419484c72d19e05852a7e"
  },
  "kernelspec": {
   "display_name": "Python 3.9.12 64-bit",
   "language": "python",
   "name": "python3"
  },
  "language_info": {
   "codemirror_mode": {
    "name": "ipython",
    "version": 3
   },
   "file_extension": ".py",
   "mimetype": "text/x-python",
   "name": "python",
   "nbconvert_exporter": "python",
   "pygments_lexer": "ipython3",
   "version": "3.9.13"
  },
  "orig_nbformat": 4
 },
 "nbformat": 4,
 "nbformat_minor": 2
}
